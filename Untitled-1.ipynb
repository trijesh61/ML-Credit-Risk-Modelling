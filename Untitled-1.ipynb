{
 "cells": [
  {
   "cell_type": "code",
   "execution_count": 1,
   "id": "bf340815",
   "metadata": {},
   "outputs": [
    {
     "name": "stdout",
     "output_type": "stream",
     "text": [
      "1.6.1\n",
      "0.13.0\n"
     ]
    }
   ],
   "source": [
    "import sklearn\n",
    "import imblearn\n",
    "print(sklearn.__version__)\n",
    "print(imblearn.__version__)"
   ]
  },
  {
   "cell_type": "code",
   "execution_count": 3,
   "id": "265ad0f8",
   "metadata": {},
   "outputs": [],
   "source": [
    "from imblearn.under_sampling import RandomUnderSampler\n"
   ]
  },
  {
   "cell_type": "code",
   "execution_count": null,
   "id": "777132e7",
   "metadata": {},
   "outputs": [],
   "source": [
    "ImportError                               Traceback (most recent call last)\n",
    "Cell In[575], line 1\n",
    "----> 1 from imblearn.under_sampling import RandomUnderSampler\n",
    "\n",
    "File c:\\Users\\Trijesh Kondapuram\\AppData\\Local\\Programs\\Python\\Python313\\Lib\\site-packages\\imblearn\\__init__.py:52\n",
    "     48     sys.stderr.write(\"Partial import of imblearn during the build process.\\n\")\n",
    "     49     # We are not importing the rest of scikit-learn during the build\n",
    "     50     # process, as it may not be compiled yet\n",
    "     51 else:\n",
    "---> 52     from . import (\n",
    "     53         combine,\n",
    "     54         ensemble,\n",
    "     55         exceptions,\n",
    "     56         metrics,\n",
    "     57         over_sampling,\n",
    "     58         pipeline,\n",
    "     59         tensorflow,\n",
    "     60         under_sampling,\n",
    "     61         utils,\n",
    "     62     )\n",
    "     63     from ._version import __version__\n",
    "     64     from .base import FunctionSampler\n",
    "\n",
    "File c:\\Users\\Trijesh Kondapuram\\AppData\\Local\\Programs\\Python\\Python313\\Lib\\site-packages\\imblearn\\combine\\__init__.py:5\n",
    "...\n",
    "--> 108 from .fixes import SPARSE_ARRAY_PRESENT\n",
    "    109 from .validation import _num_samples, check_is_fitted, has_fit_parameter\n",
    "    111 REGRESSION_DATASET = None\n",
    "\n",
    "ImportError: cannot import name 'SPARSE_ARRAY_PRESENT' from 'sklearn.utils.fixes' (c:\\Users\\Trijesh Kondapuram\\AppData\\Local\\Programs\\Python\\Python313\\Lib\\site-packages\\sklearn\\utils\\fixes.py)\n",
    "Output is truncated. View as a scrollable element or open in a text editor. Adjust cell output settings..."
   ]
  }
 ],
 "metadata": {
  "kernelspec": {
   "display_name": "Python 3",
   "language": "python",
   "name": "python3"
  },
  "language_info": {
   "codemirror_mode": {
    "name": "ipython",
    "version": 3
   },
   "file_extension": ".py",
   "mimetype": "text/x-python",
   "name": "python",
   "nbconvert_exporter": "python",
   "pygments_lexer": "ipython3",
   "version": "3.13.5"
  }
 },
 "nbformat": 4,
 "nbformat_minor": 5
}
